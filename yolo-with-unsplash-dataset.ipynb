{
 "cells": [
  {
   "cell_type": "markdown",
   "metadata": {},
   "source": [
    "## **Menginstall Library**"
   ]
  },
  {
   "cell_type": "code",
   "execution_count": null,
   "metadata": {},
   "outputs": [],
   "source": [
    "import os\n",
    "from PIL import Image\n",
    "import matplotlib.pyplot as plt"
   ]
  },
  {
   "cell_type": "code",
   "execution_count": null,
   "metadata": {},
   "outputs": [],
   "source": [
    "!pip install roboflow\n",
    "!pip install ultralytics\n",
    "\n",
    "from roboflow import Roboflow"
   ]
  },
  {
   "cell_type": "markdown",
   "metadata": {},
   "source": [
    "## **Mendowload dataset yang sebelumnya di buat di roboflow**"
   ]
  },
  {
   "cell_type": "code",
   "execution_count": null,
   "metadata": {
    "_cell_guid": "b1076dfc-b9ad-4769-8c92-a6c4dae69d19",
    "_uuid": "8f2839f25d086af736a60e9eeb907d3b93b6e0e5",
    "execution": {
     "iopub.execute_input": "2025-08-28T15:31:46.366771Z",
     "iopub.status.busy": "2025-08-28T15:31:46.366011Z",
     "iopub.status.idle": "2025-08-28T15:31:59.645387Z",
     "shell.execute_reply": "2025-08-28T15:31:59.644782Z",
     "shell.execute_reply.started": "2025-08-28T15:31:46.366735Z"
    },
    "trusted": true
   },
   "outputs": [],
   "source": [
    "rf = Roboflow(api_key=API_KEY)\n",
    "project = rf.workspace(\"novilm\").project(\"frog_dataset-7aual\")\n",
    "version = project.version(1)\n",
    "dataset = version.download(\"yolov8\")\n",
    "\n",
    "# Simpan dataset di folder \"datasets/frog\"\n",
    "dataset = version.download(\"yolov8\", location=\"/kaggle/working/datasets/frog\")"
   ]
  },
  {
   "cell_type": "markdown",
   "metadata": {},
   "source": [
    "## **Mengedit data.yaml**"
   ]
  },
  {
   "cell_type": "markdown",
   "metadata": {},
   "source": [
    "kode ini di jalankan di `kaggle` sehingga untuk mengedit kodenya menggunakan kode berikut. `data.yaml` harus di edit terlebih dahulu untuk memetakan lokasi data `train` `test` dan `val` pada model YOLOv8."
   ]
  },
  {
   "cell_type": "markdown",
   "metadata": {},
   "source": [
    "`!cat` di gunakan untuk menampilkan isi file, isi file ini kemudian di copy"
   ]
  },
  {
   "cell_type": "code",
   "execution_count": null,
   "metadata": {
    "execution": {
     "iopub.execute_input": "2025-08-28T15:32:13.492010Z",
     "iopub.status.busy": "2025-08-28T15:32:13.491756Z",
     "iopub.status.idle": "2025-08-28T15:32:13.610503Z",
     "shell.execute_reply": "2025-08-28T15:32:13.609541Z",
     "shell.execute_reply.started": "2025-08-28T15:32:13.491989Z"
    },
    "trusted": true
   },
   "outputs": [],
   "source": [
    "!cat /kaggle/working/datasets/frog/data.yaml"
   ]
  },
  {
   "cell_type": "markdown",
   "metadata": {},
   "source": [
    "`%%writefile` digunakan untuk menulis ulang isi file berdasarkan isi fle yang sudah di copy sebelumnya"
   ]
  },
  {
   "cell_type": "code",
   "execution_count": null,
   "metadata": {
    "execution": {
     "iopub.execute_input": "2025-08-28T15:32:17.220043Z",
     "iopub.status.busy": "2025-08-28T15:32:17.219769Z",
     "iopub.status.idle": "2025-08-28T15:32:17.226246Z",
     "shell.execute_reply": "2025-08-28T15:32:17.225519Z",
     "shell.execute_reply.started": "2025-08-28T15:32:17.220020Z"
    },
    "trusted": true
   },
   "outputs": [],
   "source": [
    "%%writefile /kaggle/working/datasets/frog/data.yaml\n",
    "names:\n",
    "- frog\n",
    "nc: 1\n",
    "roboflow:\n",
    "  license: CC BY 4.0\n",
    "  project: frog_dataset-7aual\n",
    "  url: https://universe.roboflow.com/novilm/frog_dataset-7aual/dataset/1\n",
    "  version: 1\n",
    "  workspace: novilm\n",
    "test: /kaggle/working/datasets/frog/test\n",
    "train: /kaggle/working/datasets/frog/train\n",
    "val: /kaggle/working/datasets/frog/valid"
   ]
  },
  {
   "cell_type": "markdown",
   "metadata": {},
   "source": [
    "setelah file selesa di edit selanjutnya filenya di cek lagi"
   ]
  },
  {
   "cell_type": "code",
   "execution_count": null,
   "metadata": {
    "execution": {
     "iopub.execute_input": "2025-08-28T15:32:19.689298Z",
     "iopub.status.busy": "2025-08-28T15:32:19.688546Z",
     "iopub.status.idle": "2025-08-28T15:32:19.806863Z",
     "shell.execute_reply": "2025-08-28T15:32:19.806131Z",
     "shell.execute_reply.started": "2025-08-28T15:32:19.689272Z"
    },
    "trusted": true
   },
   "outputs": [],
   "source": [
    "!cat /kaggle/working/datasets/frog/data.yaml"
   ]
  },
  {
   "cell_type": "markdown",
   "metadata": {},
   "source": [
    "## **Training YOLOv8**"
   ]
  },
  {
   "cell_type": "code",
   "execution_count": null,
   "metadata": {
    "execution": {
     "iopub.execute_input": "2025-08-28T15:33:44.535772Z",
     "iopub.status.busy": "2025-08-28T15:33:44.535168Z",
     "iopub.status.idle": "2025-08-28T15:40:00.289360Z",
     "shell.execute_reply": "2025-08-28T15:40:00.288644Z",
     "shell.execute_reply.started": "2025-08-28T15:33:44.535735Z"
    },
    "trusted": true
   },
   "outputs": [],
   "source": [
    "!yolo task=detect mode=train model=yolov8s.pt data=/kaggle/working/datasets/frog/data.yaml epochs=25 imgsz=800 plots=True"
   ]
  },
  {
   "cell_type": "markdown",
   "metadata": {},
   "source": [
    "setelah training selesai di lakukan, akan muncul folder baru bernama `train` yang di dalamnya akan ada gambar-gambar plot selama pelatihan dan akan ada gambar selama proses test  dan validasi. kok bisa ada gambar? hal ini di karenakan pada sintaks sebelumnya `plots=True` jika di set false maka tidak akan di simpan hasil validasi dan plot-plotnya"
   ]
  },
  {
   "cell_type": "code",
   "execution_count": null,
   "metadata": {
    "execution": {
     "iopub.execute_input": "2025-08-28T16:12:28.509594Z",
     "iopub.status.busy": "2025-08-28T16:12:28.509131Z",
     "iopub.status.idle": "2025-08-28T16:12:36.703850Z",
     "shell.execute_reply": "2025-08-28T16:12:36.703103Z",
     "shell.execute_reply.started": "2025-08-28T16:12:28.509570Z"
    },
    "trusted": true
   },
   "outputs": [],
   "source": [
    "\n",
    "# Tentukan path ke direktori gambar\n",
    "image_path = \"/kaggle/working/runs/detect/train\"\n",
    "\n",
    "# Daftar ekstensi file gambar yang diterima\n",
    "image_extensions = ['.jpg', '.jpeg', '.png', '.bmp', '.gif']\n",
    "\n",
    "# Ambil semua nama file di dalam image_path yang memiliki ekstensi gambar\n",
    "fnames = [image_path + '/' + fname for fname in os.listdir(image_path) \n",
    "          if any(fname.lower().endswith(ext) for ext in image_extensions)]\n",
    "\n",
    "# Cek jika ada file gambar\n",
    "if fnames:\n",
    "    # Loop melalui semua file gambar\n",
    "    for fname in fnames:\n",
    "        try:\n",
    "            # Buka gambar dan tampilkan\n",
    "            im = Image.open(fname)\n",
    "            plt.imshow(im)\n",
    "            plt.title(f\"Gambar: {fname.split('/')[-1]}\")\n",
    "            plt.axis('off')  # Menyembunyikan axis\n",
    "            plt.show()\n",
    "        except Exception as e:\n",
    "            print(f\"Terjadi kesalahan saat membuka gambar {fname}: {e}\")\n",
    "else:\n",
    "    print(\"Tidak ada gambar di direktori.\")\n"
   ]
  },
  {
   "cell_type": "markdown",
   "metadata": {},
   "source": [
    "## **Inference Model**"
   ]
  },
  {
   "cell_type": "markdown",
   "metadata": {},
   "source": [
    "Sekilas Sintaksnya sama seperti sebelumnya, bedanya di sini modelnua menggunakan model hasil train sebelumnya pada folde `train`"
   ]
  },
  {
   "cell_type": "code",
   "execution_count": null,
   "metadata": {
    "execution": {
     "iopub.execute_input": "2025-08-28T16:25:04.668121Z",
     "iopub.status.busy": "2025-08-28T16:25:04.667847Z",
     "iopub.status.idle": "2025-08-28T16:25:20.848217Z",
     "shell.execute_reply": "2025-08-28T16:25:20.847529Z",
     "shell.execute_reply.started": "2025-08-28T16:25:04.668100Z"
    },
    "trusted": true
   },
   "outputs": [],
   "source": [
    "!yolo task=detect mode=predict model=/kaggle/working/runs/detect/train/weights/best.pt conf=0.25 source=/kaggle/input/test-video/3293556-hd_1080_1920_30fps.mp4 save=True"
   ]
  }
 ],
 "metadata": {
  "kaggle": {
   "accelerator": "gpu",
   "dataSources": [
    {
     "datasetId": 8161057,
     "sourceId": 12898327,
     "sourceType": "datasetVersion"
    }
   ],
   "dockerImageVersionId": 31090,
   "isGpuEnabled": true,
   "isInternetEnabled": true,
   "language": "python",
   "sourceType": "notebook"
  },
  "kernelspec": {
   "display_name": "Python 3",
   "language": "python",
   "name": "python3"
  },
  "language_info": {
   "codemirror_mode": {
    "name": "ipython",
    "version": 3
   },
   "file_extension": ".py",
   "mimetype": "text/x-python",
   "name": "python",
   "nbconvert_exporter": "python",
   "pygments_lexer": "ipython3",
   "version": "3.11.13"
  }
 },
 "nbformat": 4,
 "nbformat_minor": 4
}
